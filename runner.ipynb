{
 "cells": [
  {
   "cell_type": "code",
   "execution_count": 2,
   "metadata": {},
   "outputs": [
    {
     "name": "stdout",
     "output_type": "stream",
     "text": [
      "c:\\Users\\LENOVO\\Desktop\\supervised\n"
     ]
    }
   ],
   "source": [
    "import os\n",
    "\n",
    "current_dir = os.path.abspath(os.curdir)\n",
    "base_path= os.path.normpath(current_dir)\n",
    "print(current_dir)"
   ]
  },
  {
   "cell_type": "markdown",
   "metadata": {},
   "source": [
    "# Data prep for MARBLE dataset\n",
    "The cell below configures the marble dataset such that it can be ingested by the supervised model.\n",
    "\n",
    "It generates 2 dataset files, `acc_data` and `labels`."
   ]
  },
  {
   "cell_type": "code",
   "execution_count": 7,
   "metadata": {},
   "outputs": [
    {
     "name": "stdout",
     "output_type": "stream",
     "text": [
      "Processing entire MARBLE dataset:\n",
      "Injecting wearable IMU data to output dataset(s)\n",
      "Injecting wearable IMU data to output dataset(s)\n",
      "Injecting wearable IMU data to output dataset(s)\n",
      "Injecting wearable IMU data to output dataset(s)\n",
      "Injecting wearable IMU data to output dataset(s)\n",
      "Injecting wearable IMU data to output dataset(s)\n",
      "Injecting wearable IMU data to output dataset(s)\n",
      "Injecting wearable IMU data to output dataset(s)\n",
      "Injecting wearable IMU data to output dataset(s)Injecting wearable IMU data to output dataset(s)\n",
      "\n",
      "Injecting wearable IMU data to output dataset(s)\n",
      "Injecting wearable IMU data to output dataset(s)\n",
      "Injecting wearable IMU data to output dataset(s)\n",
      "Injecting wearable IMU data to output dataset(s)\n",
      "Injecting wearable IMU data to output dataset(s)\n",
      "Injecting wearable IMU data to output dataset(s)\n",
      "Injecting wearable IMU data to output dataset(s)\n",
      "Injecting wearable IMU data to output dataset(s)\n",
      "Injecting wearable IMU data to output dataset(s)\n",
      "Injecting wearable IMU data to output dataset(s)\n",
      "Injecting wearable IMU data to output dataset(s)\n",
      "Injecting wearable IMU data to output dataset(s)\n",
      "Injecting wearable IMU data to output dataset(s)\n",
      "Injecting wearable IMU data to output dataset(s)\n",
      "Injecting wearable IMU data to output dataset(s)\n",
      "Injecting wearable IMU data to output dataset(s)\n",
      "Injecting wearable IMU data to output dataset(s)\n",
      "Injecting wearable IMU data to output dataset(s)\n",
      "Injecting wearable IMU data to output dataset(s)\n",
      "Injecting wearable IMU data to output dataset(s)\n",
      "Injecting wearable IMU data to output dataset(s)\n",
      "Injecting wearable IMU data to output dataset(s)\n",
      "Injecting wearable IMU data to output dataset(s)\n",
      "Injecting wearable IMU data to output dataset(s)\n",
      "Injecting wearable IMU data to output dataset(s)\n",
      "Injecting wearable IMU data to output dataset(s)\n",
      "Clearing from existing files (if they exist) and saving new files\n",
      "Deleted: C:\\Users\\LENOVO\\Desktop\\TDOST_AICaring\\dataset\\MARBLE\\dataset\\MARBLE_20241116_205843_405\n",
      "Saved  c:\\Users\\LENOVO\\Desktop\\supervised\\generate_dataset_marble_out\\acc_data \n",
      "\n",
      "Saved  c:\\Users\\LENOVO\\Desktop\\supervised\\generate_dataset_marble_out\\labels \n",
      "\n"
     ]
    }
   ],
   "source": [
    "path_to_marble_dataset = 'C:\\\\Users\\\\LENOVO\\\\Desktop\\\\TDOST_AICaring\\\\dataset\\\\MARBLE\\\\dataset'\n",
    "!python generate_dataset_marble.py --dataset_folder_dir={path_to_marble_dataset} --use_imu=True --combine_dataset=True --save_path={os.path.join(current_dir, \"generate_dataset_marble_out\")}"
   ]
  },
  {
   "cell_type": "markdown",
   "metadata": {},
   "source": [
    "# Folds prep\n",
    "The script below is simlar to the `main.py` script used to prepare the Blunck et.al dataset below to be ingested by Mehga's supervised model.\n",
    "\n",
    "NOTE: Due to the number of unique subjects in the MARBLE dataset, setting `--n_fold_validation=5` may result in errors.\n",
    "\n",
    "\n",
    "[Blunck, H., Bhattacharya, S., Prentow, T., Kjrgaard, M., & Dey, A. (2015). Heterogeneity Activity Recognition [Dataset]. UCI Machine Learning Repository. https://doi.org/10.24432/C5689X. ]"
   ]
  },
  {
   "cell_type": "code",
   "execution_count": 12,
   "metadata": {},
   "outputs": [
    {
     "name": "stdout",
     "output_type": "stream",
     "text": [
      "Namespace(dataset_loc='C:\\\\Users\\\\LENOVO\\\\Desktop\\\\supervised\\\\generate_dataset_marble_out', sampling_rate=50, num_sensor_channels=3, n_fold_validation=3, seed=42, perform_normalization='True')\n",
      "df['gt'] 0         11\n",
      "1         11\n",
      "2         11\n",
      "3         11\n",
      "4         11\n",
      "          ..\n",
      "528823    11\n",
      "528824    11\n",
      "528825    11\n",
      "528826    11\n",
      "528827    11\n",
      "Name: gt, Length: 528828, dtype: int64\n",
      "length of df 528828\n",
      "Done collecting!\n",
      "            acc_x     acc_y     acc_z  ...  gt         user     demographic_info\n",
      "0       22.007550 -5.406123 -5.649175  ...  11  subject-203  age: 25 to 30 years\n",
      "1       17.778782 -3.577053 -5.226840  ...  11  subject-203  age: 25 to 30 years\n",
      "2       14.814332 -2.360815 -5.511257  ...  11  subject-203  age: 25 to 30 years\n",
      "3       14.058099 -2.754278 -6.058380  ...  11  subject-203  age: 25 to 30 years\n",
      "4       13.361785 -3.388187 -6.740634  ...  11  subject-203  age: 25 to 30 years\n",
      "...           ...       ...       ...  ...  ..          ...                  ...\n",
      "528823   0.797618  0.266618  0.398729  ...  11  subject-212  age: 25 to 30 years\n",
      "528824   1.370820 -0.599173  0.013365  ...  11  subject-212  age: 25 to 30 years\n",
      "528825   2.710634 -1.024451  0.019419  ...  11  subject-212  age: 25 to 30 years\n",
      "528826   3.022547 -2.171282  1.084364  ...  11  subject-212  age: 25 to 30 years\n",
      "528827   2.267119 -1.601045  1.042532  ...  11  subject-212  age: 25 to 30 years\n",
      "\n",
      "[528828 rows x 7 columns]\n",
      "The unique subjects are: ['subject-200' 'subject-201' 'subject-202' 'subject-203' 'subject-204'\n",
      " 'subject-205' 'subject-206' 'subject-207' 'subject-208' 'subject-209'\n",
      " 'subject-211' 'subject-212']\n",
      "The number of validation and test subjects per fold: 4\n",
      "Fold 0: {'train': ['subject-203', 'subject-211', 'subject-207', 'subject-200', 'subject-204', 'subject-201'], 'val': ['subject-206', 'subject-208'], 'test': ['subject-205', 'subject-202', 'subject-212', 'subject-209']}\n",
      "The shapes of the splits are: (246124, 7), (104589, 7) and (178115, 7)\n",
      "The unique classes in train are: [ 0  1  2  3  4  5  6  7  8  9 10 11 12 13]\n",
      "The unique classes in val are: [ 0  1  2  3  4  5  6  7  8  9 10 11 12 13]\n",
      "The unique classes in test are: [ 0  1  2  3  4  5  6  7  8  9 10 11 12 13]\n",
      "The phase is: train. The data shape is: (246124, 3), (246124,)\n",
      "The phase is: val. The data shape is: (104589, 3), (104589,)\n",
      "The phase is: test. The data shape is: (178115, 3), (178115,)\n",
      "Means before normalization\n",
      "[ 0.8453275  -2.47019411  2.42043887]\n",
      "Means after normalization\n",
      "[ 3.76455660e-17 -2.71371411e-18  1.88458784e-16]\n",
      "Saved into a joblib file!\n",
      "Fold 1: {'train': ['subject-212', 'subject-211', 'subject-208', 'subject-209', 'subject-200', 'subject-205'], 'val': ['subject-207', 'subject-202'], 'test': ['subject-203', 'subject-201', 'subject-204', 'subject-206']}\n",
      "The shapes of the splits are: (278114, 7), (80151, 7) and (170563, 7)\n",
      "The unique classes in train are: [ 0  1  2  3  4  5  6  7  8  9 10 11 12 13]\n",
      "The unique classes in val are: [ 0  1  2  3  4  5  6  7  8  9 10 11 12 13]\n",
      "The unique classes in test are: [ 0  1  2  3  4  5  6  7  8  9 10 11 12 13]\n",
      "The phase is: train. The data shape is: (278114, 3), (278114,)\n",
      "The phase is: val. The data shape is: (80151, 3), (80151,)\n",
      "The phase is: test. The data shape is: (170563, 3), (170563,)\n",
      "Means before normalization\n",
      "[ 0.15078373 -0.87101003  1.1297225 ]\n",
      "Means after normalization\n",
      "[ 2.14608361e-17 -5.96815633e-17  6.04991190e-17]\n",
      "Saved into a joblib file!\n",
      "Fold 2: {'train': ['subject-212', 'subject-205', 'subject-206', 'subject-201', 'subject-204', 'subject-202'], 'val': ['subject-203', 'subject-209'], 'test': ['subject-211', 'subject-207', 'subject-208', 'subject-200']}\n",
      "The shapes of the splits are: (272090, 7), (76588, 7) and (180150, 7)\n",
      "The unique classes in train are: [ 0  1  2  3  4  5  6  7  8  9 10 11 12 13]\n",
      "The unique classes in val are: [ 0  1  2  3  4  5  6  7  8  9 10 11 12 13]\n",
      "The unique classes in test are: [ 0  1  2  3  4  5  6  7  8  9 10 11 12 13]\n",
      "The phase is: train. The data shape is: (272090, 3), (272090,)\n",
      "The phase is: val. The data shape is: (76588, 3), (76588,)\n",
      "The phase is: test. The data shape is: (180150, 3), (180150,)\n",
      "Means before normalization\n",
      "[ 0.32237816 -2.86400921  2.22072752]\n",
      "Means after normalization\n",
      "[ 1.19276855e-17 -1.58774664e-17 -2.75766522e-17]\n",
      "Saved into a joblib file!\n",
      "Sanity check across folds: {'train': ['subject-203', 'subject-211', 'subject-207', 'subject-200', 'subject-204', 'subject-201', 'subject-212', 'subject-211', 'subject-208', 'subject-209', 'subject-200', 'subject-205', 'subject-212', 'subject-205', 'subject-206', 'subject-201', 'subject-204', 'subject-202'], 'val': ['subject-206', 'subject-208', 'subject-207', 'subject-202', 'subject-203', 'subject-209'], 'test': ['subject-205', 'subject-202', 'subject-212', 'subject-209', 'subject-203', 'subject-201', 'subject-204', 'subject-206', 'subject-211', 'subject-207', 'subject-208', 'subject-200']}\n"
     ]
    }
   ],
   "source": [
    "path_to_dataset =  os.path.normpath('C:\\\\Users\\\\LENOVO\\\\Desktop\\\\supervised\\\\generate_dataset_marble_out')\n",
    "!python marble_imu_prep.py --dataset_loc={path_to_dataset} --n_fold_validation=3"
   ]
  },
  {
   "cell_type": "markdown",
   "metadata": {},
   "source": [
    "# Model Evalution\n",
    "The model is hyper-param tuned on fold 0. The best hyper-params of fold 0 are then used on folds 1 & 2"
   ]
  },
  {
   "cell_type": "code",
   "execution_count": null,
   "metadata": {},
   "outputs": [
    {
     "name": "stdout",
     "output_type": "stream",
     "text": [
      "^C\n"
     ]
    }
   ],
   "source": [
    "!python main.py --working_fold=0 --base_data_filepath=\"C:\\\\Users\\\\LENOVO\\\\Desktop\\\\supervised\\\\all_data\\\\Nov-17-2024\\\\\" --num_of_classes=14\n",
    "# to view results as a Tensorboard, run run `tensorboard --logdir=./tb_logs` in the terminal/cmd\n",
    "#! DO NOT run `tensorboard --logdir=./tb_logs` in a notebook"
   ]
  },
  {
   "cell_type": "code",
   "execution_count": null,
   "metadata": {},
   "outputs": [],
   "source": [
    "!python main.py --working_fold=1"
   ]
  },
  {
   "cell_type": "code",
   "execution_count": null,
   "metadata": {},
   "outputs": [],
   "source": [
    "!python main.py --working_fold=2"
   ]
  }
 ],
 "metadata": {
  "kernelspec": {
   "display_name": "cs_ml",
   "language": "python",
   "name": "python3"
  },
  "language_info": {
   "codemirror_mode": {
    "name": "ipython",
    "version": 3
   },
   "file_extension": ".py",
   "mimetype": "text/x-python",
   "name": "python",
   "nbconvert_exporter": "python",
   "pygments_lexer": "ipython3",
   "version": "3.11.9"
  }
 },
 "nbformat": 4,
 "nbformat_minor": 2
}
